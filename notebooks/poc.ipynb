{
 "cells": [
  {
   "cell_type": "markdown",
   "metadata": {},
   "source": [
    "# POC for NCAABB Elo"
   ]
  },
  {
   "cell_type": "code",
   "execution_count": null,
   "metadata": {},
   "outputs": [],
   "source": [
    "cd .."
   ]
  },
  {
   "cell_type": "code",
   "execution_count": null,
   "metadata": {},
   "outputs": [],
   "source": [
    "from src.consts import ESPNSportTypes, START_SEASONS, SEASON_GROUPS\n",
    "from src.utils import find_year_for_season, create_dataframe, put_dataframe, get_dataframe\n",
    "from src.steps.events_runner import run_events_for_sport\n",
    "from src.event import ESPNEventsAPI\n",
    "import numpy as np\n",
    "import pandas as pd\n",
    "import os\n",
    "import datetime\n",
    "\n",
    "## If its refresh pull whole thing\n",
    "## If its upsert get the latest seasons in the fs and determine active sports that need pulling\n",
    "\n",
    "sports = [\n",
    "    ESPNSportTypes.COLLEGE_BASKETBALL,\n",
    "    #ESPNSportTypes.COLLEGE_FOOTBALL,\n",
    "    #ESPNSportTypes.COLLEGE_BASEBALL,\n",
    "    #ESPNSportTypes.COLLEGE_HOCKEY,\n",
    "    ESPNSportTypes.COLLEGE_LACROSSE,\n",
    "    ESPNSportTypes.NFL\n",
    "    #ESPNSportTypes.NBA\n",
    "\n",
    "]\n",
    "import time\n",
    "status_reports = {}\n",
    "for sport in sports:\n",
    "    start = time.time()\n",
    "    try:\n",
    "        #run_events_for_sport(root_path='./data/events', sport=sport, espn_events_api=ESPNEventsAPI())\n",
    "        status_reports[sport] = {\n",
    "            'status':True,\n",
    "            'execution_time':round(time.time() - start, 2),\n",
    "            'end_datetime': datetime.datetime.utcnow()\n",
    "        }\n",
    "    except Exception as e:\n",
    "        print('FAILURE')\n",
    "        print(e)\n",
    "        status_reports[sport] = {\n",
    "            'status':False,\n",
    "            'execution_time':round(time.time() - start, 2),\n",
    "            'end_datetime': datetime.datetime.utcnow()\n",
    "        }\n",
    "print('')\n",
    "print('Events Pump Status Report')\n",
    "print('-'*110)\n",
    "duration = 0\n",
    "for key, report in status_reports.items():\n",
    "    duration = duration + report['execution_time']\n",
    "    print(f\"    {key}: {'PASSED' if report['status'] else 'FAILED'} -- took {report['execution_time']} sec, finished at ({report['end_datetime']}) \")\n",
    "print('')\n",
    "print(f'Pump took {duration} sec')\n",
    "print('-'*110)\n",
    "\n"
   ]
  },
  {
   "cell_type": "code",
   "execution_count": null,
   "metadata": {},
   "outputs": [],
   "source": [
    "sports = [ESPNSportTypes.COLLEGE_BASKETBALL, ESPNSportTypes.COLLEGE_BASEBALL,ESPNSportTypes.COLLEGE_FOOTBALL,ESPNSportTypes.COLLEGE_HOCKEY]\n",
    "SCHEMA = {\n",
    "            'id':np.int64,\n",
    "            'season':np.int32,\n",
    "            'is_postseason': np.int8,\n",
    "            'tournament_id':'Int32',\n",
    "            'is_finished': np.int8,\n",
    "            'neutral_site': np.int8,\n",
    "            'home_team_id':np.int32,\n",
    "            'home_team_score':'Int32',\n",
    "            'away_team_id':np.int32,\n",
    "            'away_team_score':'Int32',\n",
    "        }\n",
    "for sport in sports:\n",
    "    for file in os.listdir(f'./data/events/{sport.value}'):\n",
    "        fs_df = get_dataframe(f'./data/events/{sport.value}/{file}')\n",
    "        put_dataframe(fs_df, f'./data/events/{sport.value}/{file}', SCHEMA)\n",
    "\n",
    "\n"
   ]
  },
  {
   "cell_type": "code",
   "execution_count": null,
   "metadata": {},
   "outputs": [],
   "source": [
    "espn_events_api=ESPNEventsAPI()\n",
    "team_ids = []\n",
    "url = 'http://sports.core.api.espn.com/v2/sports/lacrosse/leagues/mens-college-lacrosse/seasons/2008/teams'\n",
    "res = espn_events_api.api_request(url+'?limit=500')\n",
    "for item in res['items']:\n",
    "    team_ids.append(int(item['$ref'].replace(url+'/','').split('?')[0]))\n",
    "team_ids"
   ]
  }
 ],
 "metadata": {
  "kernelspec": {
   "display_name": ".venv",
   "language": "python",
   "name": "python3"
  },
  "language_info": {
   "codemirror_mode": {
    "name": "ipython",
    "version": 3
   },
   "file_extension": ".py",
   "mimetype": "text/x-python",
   "name": "python",
   "nbconvert_exporter": "python",
   "pygments_lexer": "ipython3",
   "version": "3.10.5"
  }
 },
 "nbformat": 4,
 "nbformat_minor": 2
}
